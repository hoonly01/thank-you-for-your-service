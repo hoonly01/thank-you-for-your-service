{
 "cells": [
  {
   "cell_type": "markdown",
   "metadata": {},
   "source": [
    "# TERM-PROJECT: Proposal"
   ]
  },
  {
   "cell_type": "markdown",
   "metadata": {},
   "source": [
    "# 당신의 노고에 감사드립니다 : Thank you for your service"
   ]
  },
  {
   "cell_type": "markdown",
   "metadata": {},
   "source": [
    "<div style=\"text-align: right\"> 웹/파이선프로그래밍 01분반 </div>\n",
    "<div style=\"text-align: right\"> 2021105665 컴퓨터공학과 황종훈 </div>"
   ]
  },
  {
   "cell_type": "markdown",
   "metadata": {},
   "source": [
    "### 1. 주제 선정 이유"
   ]
  },
  {
   "cell_type": "markdown",
   "metadata": {},
   "source": [
    "    국가에서는 나라사랑카드 사업, 국군복지단을 통해 군 장병에게 우대 혜택을 제공하고 있고, 각종 기업은 군인 우대 서비스를 제공하고 있습니다.\n",
    "    또한, 대한민국에서 3대(代)가 모두 현역군인으로 만기전역한 가문은 '병역명문가'로 선정됩니다.\n",
    "    병역명문가는 국립, 지자체, 민간 시설 이용 시 우대 및 입장료 할인등의 지원을 받을 수 있습니다.\n",
    "    그러나, 이러한 군인 관련 혜택을 종합적으로 편리하게 확인할 수 있는 서비스는 찾을 수 없었습니다.\n",
    "\n",
    "    이 프로젝트를 통해 우리나라 60만 현역 군인과 군인 가족이 보다 편리하게 우대 혜택을 이용하기를 희망합니다."
   ]
  },
  {
   "cell_type": "markdown",
   "metadata": {},
   "source": [
    "### 2. 주제 정의"
   ]
  },
  {
   "cell_type": "markdown",
   "metadata": {},
   "source": [
    "    국군복지포털, 병역명문가 홈페이지 등에서 파일 다운로드, 웹 크롤링을 통해 우대 혜택을 받을 수 있는 시설의 목록을 가져옵니다.\n",
    "    획득한 데이터를 주소와 혜택 등 필요한 내용만 선택적으로 추출합니다.\n",
    "    추출한 내용을 오픈맵 API를 이용하여 지도에 표시합니다.\n",
    "    사용자가 카테고리나 지역을 선택하면 이용할 수 있는 우대 시설을 지도에 표시해줍니다.\n",
    "    \n",
    "    핵심 목표는 군인과 군인가족이 이용할 수 있는 혜택을 카테고리 및 지역 별로 분류해 오픈 지도에 표기하여 쉽게 정보를 얻을 수 있도록 돕는 것입니다."
   ]
  },
  {
   "cell_type": "markdown",
   "metadata": {},
   "source": [
    "### 3. 인터넷을 통한 데이터 획득"
   ]
  },
  {
   "cell_type": "markdown",
   "metadata": {},
   "source": [
    "1) 국군복지포털 군 영외마트(PX) <br>\n",
    "https://www.welfare.mil.kr/board/board.do?forwardName=board.view&be_id=c_notice&bm_serial=9999998376&pg=1&ct=5&m_code=120\n",
    "\n",
    "2) 병역명문가 우대시설 <br>\n",
    "https://www.mma.go.kr/hall/listsearch.do?mc=mma0002523#n\n",
    "\n",
    "홈페이지에 첨부되어 있는 파일은 다운로드 받은 후 파일 입출력을 통해 데이터를 획득할 계획입니다. <br>\n",
    "웹 크롤링을 통해 데이터를 가져올 수 있는 경우 크롤링을 이용해 데이터를 획득합니다. <br>\n",
    "하지만, 다른 형식으로 저장되어 있는 데이터를 이용하거나 파일 활용의 편리함을 위해 인터넷에서 파일을 다운로드 받아 데이터를 가공하는 방식도 고려 중에 있습니다."
   ]
  },
  {
   "cell_type": "markdown",
   "metadata": {},
   "source": [
    "### 7. 참고문헌"
   ]
  },
  {
   "cell_type": "markdown",
   "metadata": {},
   "source": [
    "지오코딩(converting addresses) : https://developers.google.com/maps/documentation/geocoding/overview <br>\n",
    "도로명주소 좌표제공 API : https://www.juso.go.kr/addrlink/devAddrLinkRequestGuide.do?menu=coordApi <br>\n",
    "오픈맵 API : https://www.vworld.kr/dev/v4dv_opn2dmap2guide_s001.do <br>"
   ]
  }
 ],
 "metadata": {
  "kernelspec": {
   "display_name": "Python 3",
   "language": "python",
   "name": "python3"
  },
  "language_info": {
   "codemirror_mode": {
    "name": "ipython",
    "version": 3
   },
   "file_extension": ".py",
   "mimetype": "text/x-python",
   "name": "python",
   "nbconvert_exporter": "python",
   "pygments_lexer": "ipython3",
   "version": "3.8.5"
  }
 },
 "nbformat": 4,
 "nbformat_minor": 4
}
